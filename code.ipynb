{
 "cells": [
  {
   "cell_type": "markdown",
   "id": "buried-invention",
   "metadata": {},
   "source": [
    "# CMPE 484: Bioinformatics and Computational Genomics, Spring 2022\n",
    "## Assignment I -  Pairwise Sequence Alignment\n",
    "\n",
    "Please describe your work clearly since this notebook is considered as your report."
   ]
  },
  {
   "cell_type": "markdown",
   "id": "d672faf6",
   "metadata": {},
   "source": [
    "# ADALET VEYİS TURGUT 2017400210"
   ]
  },
  {
   "cell_type": "markdown",
   "id": "b5ee1329",
   "metadata": {},
   "source": [
    "## helpers"
   ]
  },
  {
   "cell_type": "code",
   "execution_count": 3,
   "id": "f1b68983",
   "metadata": {
    "scrolled": true
   },
   "outputs": [
    {
     "name": "stdout",
     "output_type": "stream",
     "text": [
      "Defaulting to user installation because normal site-packages is not writeable\n",
      "Requirement already satisfied: blosum in /Users/veyisT/Library/Python/3.8/lib/python/site-packages (1.1.3)\n"
     ]
    }
   ],
   "source": [
    "!pip3 install blosum \n",
    "import blosum as bl\n",
    "blosumDict = {key:int(val) for key,val in dict(bl.BLOSUM(62)).items()}\n",
    "#usage: blosumDict['GC']"
   ]
  },
  {
   "cell_type": "code",
   "execution_count": 4,
   "id": "e48a81e0",
   "metadata": {},
   "outputs": [],
   "source": [
    "def zeros(hor,ver):\n",
    "    \"\"\"\n",
    "    create a matrix full of zeros with given sizes\n",
    "    \"\"\"\n",
    "    matrix = []\n",
    "    for i in range(hor):\n",
    "        matrix.append([])\n",
    "        for j in range(ver):\n",
    "            matrix[-1].append(0)\n",
    "    return matrix\n",
    "def print_matrix(matrix):\n",
    "    \"\"\"\n",
    "    print matrix with with tabs between elements\n",
    "    \"\"\"\n",
    "    for row in matrix:\n",
    "        for el in row:\n",
    "            print(el, end=\"\\t\")\n",
    "        print()\n",
    "def find_index(matrix, elem):\n",
    "    for i,row in enumerate(matrix):\n",
    "        for j,el in enumerate(row):\n",
    "            if el == elem:\n",
    "                return i,j\n",
    "    return -1,-1"
   ]
  },
  {
   "cell_type": "markdown",
   "id": "3c575bf3",
   "metadata": {},
   "source": [
    "## Score calculations"
   ]
  },
  {
   "cell_type": "markdown",
   "id": "be11f672",
   "metadata": {},
   "source": [
    "### linear score"
   ]
  },
  {
   "cell_type": "code",
   "execution_count": 15,
   "id": "f2d77260",
   "metadata": {},
   "outputs": [],
   "source": [
    "def linear_score(seq1, seq2, penalty, is_local=False):\n",
    "    \"\"\"\n",
    "    calculate alignment scores with linear penalty.\n",
    "    to decide a score, we have three options: we can come from above, from left or from upper left corner.\n",
    "    if we come from above or left, we add penalty; if we come from the upper left corner, we add \n",
    "        match-mismatch value (found from blosum matrix) to the position we came from.\n",
    "    if algorithm is local, we also consider 0.\n",
    "    we take maximum of them\n",
    "    we do the steps above for every entry in the matrix.\n",
    "    \"\"\"\n",
    "    matrix = zeros(len(seq1)+1,len(seq2)+1)\n",
    "    traceback_matrix = zeros(len(seq1)+1,len(seq2)+1)\n",
    "    label_dict = {0:'corner', 1:'left', 2:'up', 3:'switch'}\n",
    "    if not is_local:\n",
    "        for idx,_ in enumerate(matrix[0]):\n",
    "            matrix[0][idx] = idx * penalty\n",
    "        for idx,_ in enumerate(matrix):\n",
    "            matrix[idx][0] = idx * penalty\n",
    "    for i in range(1,len(matrix)):\n",
    "        for j in range(1,len(matrix[i])):\n",
    "            blosum_score = 1 if seq1[i-1] == seq2[j-1] else -1\n",
    "            #entries = [matrix[i-1][j-1] + blosumDict[\"%c%c\" % (seq1[i-1],seq2[j-1])],matrix[i][j-1] + penalty, matrix[i-1][j] + penalty]\n",
    "            entries = [matrix[i-1][j-1] + blosum_score,matrix[i][j-1] + penalty, matrix[i-1][j] + penalty]\n",
    "            if is_local:\n",
    "                entries.append(0)\n",
    "            matrix[i][j] = max(entries)\n",
    "            if matrix[i][j] == 0: traceback_matrix[i][j] = 'switch'\n",
    "            else: traceback_matrix[i][j] = label_dict[entries.index(matrix[i][j])]\n",
    "    return matrix, traceback_matrix"
   ]
  },
  {
   "cell_type": "markdown",
   "id": "17721b29",
   "metadata": {},
   "source": [
    "### affine score"
   ]
  },
  {
   "cell_type": "code",
   "execution_count": 6,
   "id": "c097c00b",
   "metadata": {},
   "outputs": [],
   "source": [
    "def affine_score(seq1, seq2, op_penalty, ext_penalty, is_local=False):\n",
    "    \"\"\"\n",
    "    calculate alignment scores with affine penalty.\n",
    "    now we have three different matrices (or you can say layers): upper matrix for vertical edges: layer_matrixes[2], lower matrix\n",
    "        for horizantal edges: layer_matrixes[1] and main matrix for diagonal edges: layer_matrixes[0]\n",
    "    we calculate scores for each of the matrices: if we come from another matrix, we add open penalty; if we come from same matrix, \n",
    "        we add extension penalty. If is_local is true, we also consider 0 which means we fresh start a new partial alignment.\n",
    "    we do the steps above for every entry in the matrices.\n",
    "    final score is the maximum element of these matrices.\n",
    "    we also create traceback_matrices for each layer to keep track of where we came from. \n",
    "    \"\"\"\n",
    "    # initialize layer matrices\n",
    "    layer_matrixes = [zeros(len(seq1)+1,len(seq2)+1) for _ in range(3)] # [main_level, lower_level, upper_level]\n",
    "    layer_matrixes[0][0][0] = 0\n",
    "    layer_matrixes[1][0][0] = op_penalty\n",
    "    layer_matrixes[2][0][0] = op_penalty\n",
    "    for i in range(1,len(seq1)+1):\n",
    "        layer_matrixes[0][i][0] = -10000\n",
    "        layer_matrixes[2][i][0] = -10000\n",
    "        layer_matrixes[1][i][0] = op_penalty + ext_penalty * (i-1)\n",
    "    layer_matrixes[0][0][1:] = [-10000 for i in range(len(seq2))]\n",
    "    layer_matrixes[1][0][1:] = [-10000 for i in range(len(seq2))]\n",
    "    layer_matrixes[2][0][1:] = [op_penalty + ext_penalty * i for i in range(len(seq2))]\n",
    "    # initialize traceback matrices\n",
    "    traceback_matrices = [zeros(len(seq1)+1,len(seq2)+1) for _ in range(3)]\n",
    "    # helper dict fill traceback matrix\n",
    "    label_dict = {0:'main', 1:'lower', 2:'upper',3:'0',4:'blosum'}# lower:horizantal, upper:vertical\n",
    "    # algorithm\n",
    "    for i in range(1,len(layer_matrixes[0])):\n",
    "        for j in range(1,len(layer_matrixes[0][i])):\n",
    "            blosum_score = blosumDict[\"%c%c\" % (seq1[i-1],seq2[j-1])]\n",
    "            if is_local:\n",
    "                entries = [layer_matrixes[k][i-1][j-1] + blosum_score for k in range(3)]+[0, blosum_score]\n",
    "            else:\n",
    "                entries = [layer_matrixes[k][i-1][j-1] + blosum_score for k in range(3)]\n",
    "            layer_matrixes[0][i][j] = max(entries)\n",
    "            traceback_matrices[0][i][j] = label_dict[entries.index(layer_matrixes[0][i][j])]\n",
    "            layer_matrixes[1][i][j] = max(layer_matrixes[1][i][j-1] + ext_penalty, layer_matrixes[0][i][j-1] + op_penalty)\n",
    "            traceback_matrices[1][i][j] = 'lower' if layer_matrixes[1][i][j]==layer_matrixes[1][i][j-1] + ext_penalty else 'main'\n",
    "            layer_matrixes[2][i][j] = max(layer_matrixes[2][i-1][j] + ext_penalty, layer_matrixes[0][i-1][j] + op_penalty )\n",
    "            traceback_matrices[2][i][j] = 'upper' if layer_matrixes[2][i][j]==layer_matrixes[2][i-1][j] + ext_penalty else 'main'\n",
    "            entries = [layer_matrixes[k][i][j] for k in range(3)]\n",
    "            #trace[i][j] = label_dict[entries.index(max(entries))]\n",
    "    return layer_matrixes, traceback_matrices"
   ]
  },
  {
   "cell_type": "markdown",
   "id": "110aca62",
   "metadata": {},
   "source": [
    "## Backtrack functions"
   ]
  },
  {
   "cell_type": "markdown",
   "id": "ed6b3bd3",
   "metadata": {},
   "source": [
    "### linear backtrack"
   ]
  },
  {
   "cell_type": "code",
   "execution_count": 7,
   "id": "fc3a272a",
   "metadata": {},
   "outputs": [],
   "source": [
    "def linear_backtrack(seq1, seq2, trace_matrix, matrix=None, is_local=False):\n",
    "    \"\"\"\n",
    "    we have a helper matrix, we follow what the matrix says to track back, we equalize the lengths of the sequences before \n",
    "    returning to make sure they are visually aligned.\n",
    "    \"\"\"\n",
    "    if is_local:\n",
    "        i,j = find_index(matrix,max(map(max,matrix)))\n",
    "        new_seq1 = seq1[i:]\n",
    "        new_seq2 = seq2[j:]\n",
    "        mid_seq = \"\"\n",
    "        ### append blank chars to shorter strings so that their lengths are aligned\n",
    "        max_len = max(len(seq1[i:]),len(seq2[j:]))\n",
    "        if len(new_seq1[i:]) < max_len:\n",
    "            new_seq1 += ' '* (max_len-len(seq1[i:]))\n",
    "        if len(seq2[j:]) < max_len:\n",
    "            new_seq2 += ' '* (max_len-len(seq2[j:])) \n",
    "        if len(mid_seq) < max_len:\n",
    "            mid_seq += ' '* (max_len-len(mid_seq)) \n",
    "    else:\n",
    "        new_seq1 = \"\"\n",
    "        new_seq2 = \"\"\n",
    "        mid_seq = \"\"\n",
    "        i = len(seq1)\n",
    "        j = len(seq2)\n",
    "    while i > 0 or j > 0:\n",
    "        if trace_matrix[i][j] == 'corner':\n",
    "            new_seq1 = seq1[i-1] + new_seq1\n",
    "            new_seq2 = seq2[j-1] + new_seq2\n",
    "            i -= 1\n",
    "            j -= 1\n",
    "            mid_seq = ('|' if seq1[i]==seq2[j] else '.') + mid_seq\n",
    "        elif trace_matrix[i][j] == 'up':\n",
    "            new_seq1 = seq1[i-1] + new_seq1\n",
    "            new_seq2 = '-' + new_seq2\n",
    "            i -= 1\n",
    "            mid_seq = '-' + mid_seq\n",
    "        elif trace_matrix[i][j] == 'left':\n",
    "            new_seq1 = '-' + new_seq1\n",
    "            new_seq2 = seq2[j-1] + new_seq2\n",
    "            j -= 1\n",
    "            mid_seq = '-' + mid_seq\n",
    "        else: break\n",
    "    new_seq1 = seq1[:i] + new_seq1\n",
    "    new_seq2 = seq2[:j] + new_seq2\n",
    "    max_len = max(len(new_seq1),len(new_seq2))\n",
    "    fill_blank_char = ' ' if is_local else '-'\n",
    "\n",
    "    if len(new_seq1) < max_len:\n",
    "        new_seq1 = fill_blank_char* (max_len-len(new_seq1)) + new_seq1\n",
    "    if len(new_seq2) < max_len:\n",
    "        new_seq2 = fill_blank_char* (max_len-len(new_seq2)) + new_seq2\n",
    "    if len(mid_seq) < max_len:\n",
    "        mid_seq = fill_blank_char* (max_len-len(mid_seq)) + mid_seq\n",
    "    return new_seq1, mid_seq, new_seq2"
   ]
  },
  {
   "cell_type": "markdown",
   "id": "a13af18e",
   "metadata": {},
   "source": [
    "### affine backtrack"
   ]
  },
  {
   "cell_type": "code",
   "execution_count": 8,
   "id": "ab1e5a9a",
   "metadata": {},
   "outputs": [],
   "source": [
    "def affine_backtrack(seq1,seq2,layer_matrices,trace_matrices, is_local=False):\n",
    "    \"\"\"\n",
    "    we have three helper trace matrices, one for each layer.\n",
    "    First we find start position: for local, we find the index of the maximum element of these matrices; for global, we find maxium of the last entries. \n",
    "    we have two helper variables: prev_matrix_index and prev_matrix_name. They help us move back and forth between matrices and backtrack accordingly.\n",
    "    After completing while loop, we fill the remaining spaces.\n",
    "    \"\"\"\n",
    "    if is_local:\n",
    "        max_of_three =  [max(map(max,matrix)) for matrix in layer_matrices]\n",
    "        prev_matrix_index = max_of_three.index(max(max_of_three))\n",
    "        i,j = find_index(layer_matrices[prev_matrix_index],max(max_of_three))\n",
    "        new_seq1 = seq1[i:]\n",
    "        new_seq2 = seq2[j:]\n",
    "        mid_seq = \"\"\n",
    "        ### append blank chars to shorter strings so that their lengths are aligned\n",
    "        max_len = max(len(seq1[i:]),len(seq2[j:]))\n",
    "        if len(new_seq1[i:]) < max_len:\n",
    "            new_seq1 += ' '* (max_len-len(seq1[i:]))\n",
    "        if len(seq2[j:]) < max_len:\n",
    "            new_seq2 += ' '* (max_len-len(seq2[j:])) \n",
    "        if len(mid_seq) < max_len:\n",
    "            mid_seq += ' '* (max_len-len(mid_seq))\n",
    "    else:\n",
    "        last_elements = [matrix[-1][-1] for matrix in layer_matrices]\n",
    "        prev_matrix_index = last_elements.index(max(last_elements))\n",
    "        i,j = len(seq1),len(seq2)\n",
    "        new_seq1,new_seq2,mid_seq = \"\",\"\",\"\"\n",
    "    while i > 0 and j > 0:\n",
    "        if prev_matrix_index == 0:\n",
    "            prev_matrix_name = trace_matrices[0][i][j]\n",
    "            if str(prev_matrix_name) == '0':break\n",
    "            new_seq1 = seq1[i-1] + new_seq1\n",
    "            new_seq2 = seq2[j-1] + new_seq2\n",
    "            mid_seq = ('|' if seq1[i-1]==seq2[j-1] else '.') + mid_seq\n",
    "            i -= 1\n",
    "            j -= 1\n",
    "            if prev_matrix_name == 'upper':\n",
    "                prev_matrix_index = 2\n",
    "            elif prev_matrix_name == 'lower':\n",
    "                prev_matrix_index = 1\n",
    "        elif prev_matrix_index == 2:\n",
    "            prev_matrix_name = trace_matrices[2][i][j]\n",
    "            if str(prev_matrix_name) == '0':break\n",
    "            new_seq1 = seq1[i-1] + new_seq1\n",
    "            new_seq2 = '-' + new_seq2\n",
    "            mid_seq = '-' + mid_seq\n",
    "            i -= 1\n",
    "            if prev_matrix_name == 'main':\n",
    "                prev_matrix_index = 0\n",
    "            elif str(prev_matrix_name) == '0': break\n",
    "        elif prev_matrix_index == 1:\n",
    "            prev_matrix_name = trace_matrices[1][i][j]\n",
    "            if str(prev_matrix_name) == '0':break\n",
    "            new_seq1 = '-' + new_seq1\n",
    "            new_seq2 = seq2[j-1] + new_seq2\n",
    "            mid_seq = '-' + mid_seq\n",
    "            j -= 1\n",
    "            if prev_matrix_name == 'main':\n",
    "                prev_matrix_index = 0\n",
    "            elif str(prev_matrix_name) == '0': break\n",
    "    new_seq1 = seq1[:i] + new_seq1\n",
    "    new_seq2 = seq2[:j] + new_seq2\n",
    "    max_len = max(len(new_seq1),len(new_seq2))\n",
    "    fill_blank_char = ' ' if is_local else '-'\n",
    "    if len(new_seq1) < max_len:\n",
    "        new_seq1 = fill_blank_char* (max_len-len(new_seq1)) + new_seq1\n",
    "    if len(new_seq2) < max_len:\n",
    "        new_seq2 = fill_blank_char* (max_len-len(new_seq2)) + new_seq2\n",
    "    if len(mid_seq) < max_len:\n",
    "        mid_seq = fill_blank_char * (max_len-len(mid_seq)) + mid_seq\n",
    "    return new_seq1, mid_seq, new_seq2"
   ]
  },
  {
   "cell_type": "markdown",
   "id": "arbitrary-melissa",
   "metadata": {},
   "source": [
    "# Smith Waterman (Local Sequence Alignment)"
   ]
  },
  {
   "cell_type": "code",
   "execution_count": 21,
   "id": "cheap-helena",
   "metadata": {},
   "outputs": [],
   "source": [
    "def smith_waterman_algorithm(seq1, seq2, penalty_params):\n",
    "    if penalty_params['penalty_type'] == 'linear':\n",
    "        matrix, trace_matrix = linear_score(seq1, seq2, penalty_params['gap_opening_penalty'], True)\n",
    "        print_matrix(matrix)\n",
    "        print(\"Score:\" ,max(map(max,matrix)))\n",
    "        print(*linear_backtrack(seq1, seq2, trace_matrix, matrix ,True),sep=\"\\n\")\n",
    "\n",
    "    elif penalty_params['penalty_type'] == 'affine': \n",
    "        layer_matrices, trace_matrices = affine_score(seq1, seq2, penalty_params['gap_opening_penalty'],penalty_params['gap_extension_penalty'], True)\n",
    "        print(\"Score:\" ,max([max(map(max,matrix)) for matrix in layer_matrices]))\n",
    "        print(*affine_backtrack(seq1,seq2,layer_matrices,trace_matrices, True),sep=\"\\n\")\n",
    "    else:\n",
    "        raise ValueError(\"penalty_type must be linear or affine.\")"
   ]
  },
  {
   "cell_type": "markdown",
   "id": "united-adult",
   "metadata": {},
   "source": [
    "# Needleman Wunsch (Global Sequence Alignment)"
   ]
  },
  {
   "cell_type": "code",
   "execution_count": 13,
   "id": "amino-organization",
   "metadata": {
    "scrolled": true
   },
   "outputs": [],
   "source": [
    "def needleman_wunsch_algorithm(seq1, seq2, penalty_params):\n",
    "    if penalty_params['penalty_type'] == 'linear':\n",
    "        matrix, trace_matrix = linear_score(seq1, seq2, penalty_params['gap_opening_penalty'])\n",
    "        print(\"Score:\" , matrix[-1][-1])\n",
    "        print_matrix(matrix)\n",
    "        print(*linear_backtrack(seq1,seq2,trace_matrix),sep=\"\\n\")\n",
    "    elif penalty_params['penalty_type'] == 'affine':\n",
    "        layer_matrices, trace_matrices = affine_score(seq1, seq2, penalty_params['gap_opening_penalty'],penalty_params['gap_extension_penalty'])\n",
    "        print(\"Score:\",max([layer_matrices[k][-1][-1] for k in range(3)]))\n",
    "        print(*affine_backtrack(seq1,seq2,layer_matrices,trace_matrices),sep=\"\\n\")\n",
    "    else:\n",
    "        raise ValueError(\"penalty_type must be linear or affine.\")"
   ]
  },
  {
   "cell_type": "markdown",
   "id": "verified-hungarian",
   "metadata": {},
   "source": [
    "# Generic Sequence Alignment Function"
   ]
  },
  {
   "cell_type": "code",
   "execution_count": 11,
   "id": "cheap-emission",
   "metadata": {},
   "outputs": [],
   "source": [
    "def align_sequences(seq1, seq2, algorithm, penalty_params):\n",
    "    if len(seq1)==0 or len(seq2) == 0:\n",
    "        raise ValueError(\"Sequence(s) cannot be 0 length!\")\n",
    "    if algorithm == 'global':\n",
    "        return needleman_wunsch_algorithm(seq1, seq2, penalty_params)\n",
    "    elif algorithm == 'local': \n",
    "        return smith_waterman_algorithm(seq1, seq2, penalty_params)\n",
    "    else:\n",
    "        raise NotImplementedError"
   ]
  },
  {
   "cell_type": "code",
   "execution_count": 19,
   "id": "6c4605ec",
   "metadata": {},
   "outputs": [
    {
     "name": "stdout",
     "output_type": "stream",
     "text": [
      "Score: -1\n",
      "0\t-1\t-2\t-3\t-4\t-5\t-6\t-7\t-8\t-9\t\n",
      "-1\t-1\t-2\t-3\t-2\t-3\t-4\t-5\t-6\t-7\t\n",
      "-2\t-2\t-2\t-3\t-2\t-1\t-2\t-3\t-4\t-5\t\n",
      "-3\t-3\t-1\t-2\t-3\t-2\t-2\t-3\t-2\t-3\t\n",
      "-4\t-4\t-2\t0\t-1\t-2\t-3\t-3\t-3\t-3\t\n",
      "-5\t-5\t-3\t-1\t1\t0\t-1\t-2\t-3\t-4\t\n",
      "-6\t-4\t-4\t-2\t0\t0\t-1\t0\t-1\t-2\t\n",
      "-7\t-5\t-3\t-3\t-1\t-1\t-1\t-1\t1\t0\t\n",
      "-8\t-6\t-4\t-2\t-2\t-2\t-2\t-2\t0\t0\t\n",
      "-9\t-7\t-5\t-3\t-1\t-1\t-1\t-2\t-1\t-1\t\n",
      "GGACGTACG\n",
      "--------.\n",
      "TACGGGTAT\n"
     ]
    }
   ],
   "source": [
    "align_sequences(sample1_sequence2, sample1_sequence1, 'global', {'penalty_type': 'linear', 'gap_opening_penalty': -1}) # works\n"
   ]
  },
  {
   "cell_type": "code",
   "execution_count": 23,
   "id": "ec9ec921",
   "metadata": {},
   "outputs": [
    {
     "name": "stdout",
     "output_type": "stream",
     "text": [
      "0\t0\t0\t0\t0\t0\t0\t0\t0\t0\t\n",
      "0\t0\t0\t0\t1\t1\t1\t0\t0\t0\t\n",
      "0\t0\t0\t0\t1\t2\t2\t1\t0\t0\t\n",
      "0\t0\t1\t0\t0\t1\t1\t1\t2\t1\t\n",
      "0\t0\t0\t2\t1\t0\t0\t0\t1\t1\t\n",
      "0\t0\t0\t1\t3\t2\t1\t0\t0\t0\t\n",
      "0\t1\t0\t0\t2\t2\t1\t2\t1\t1\t\n",
      "0\t0\t2\t1\t1\t1\t1\t1\t3\t2\t\n",
      "0\t0\t1\t3\t2\t1\t0\t0\t2\t2\t\n",
      "0\t0\t0\t2\t4\t3\t2\t1\t1\t1\t\n",
      "Score: 4\n",
      "GGACGTACG     \n",
      "     ||||     \n",
      "     TACGGGTAT\n"
     ]
    }
   ],
   "source": [
    "align_sequences(sample1_sequence2, sample1_sequence1, 'local', {'penalty_type': 'linear', 'gap_opening_penalty': -1})"
   ]
  },
  {
   "cell_type": "markdown",
   "id": "e36760e4",
   "metadata": {},
   "source": [
    "# Example calls"
   ]
  },
  {
   "cell_type": "code",
   "execution_count": 10,
   "id": "0c40dace",
   "metadata": {},
   "outputs": [
    {
     "name": "stdout",
     "output_type": "stream",
     "text": [
      "Score: 7\n",
      "  AEPWAHT\n",
      "    |    \n",
      "CDKIP    \n",
      "\n",
      "Score: 7\n",
      "  AEPWAHT\n",
      "    |    \n",
      "CDKIP    \n",
      "\n",
      "Score: 3\n",
      "--AEPWAHT\n",
      "----|----\n",
      "CDKIP----\n",
      "\n",
      "Score: -15\n",
      "AEPWAHT\n",
      "..--...\n",
      "CD--KIP\n"
     ]
    }
   ],
   "source": [
    "sample1_sequence1 = 'AEPWAHT'\n",
    "sample1_sequence2 = 'CDKIP'\n",
    "align_sequences(sample1_sequence1, sample1_sequence2, 'local', {'penalty_type': 'linear', 'gap_opening_penalty': -1})\n",
    "print()\n",
    "align_sequences(sample1_sequence1, sample1_sequence2, 'local', {'penalty_type': 'affine','gap_opening_penalty': -5, 'gap_extension_penalty': -2 })\n",
    "print()\n",
    "align_sequences(sample1_sequence1, sample1_sequence2, 'global', {'penalty_type': 'linear', 'gap_opening_penalty': -1}) # works\n",
    "print()\n",
    "align_sequences(sample1_sequence1, sample1_sequence2, 'global', {'penalty_type': 'affine', 'gap_opening_penalty': -11, 'gap_extension_penalty': -1})"
   ]
  },
  {
   "cell_type": "markdown",
   "id": "17d6d220",
   "metadata": {},
   "source": [
    "# Given code"
   ]
  },
  {
   "cell_type": "markdown",
   "id": "alike-enlargement",
   "metadata": {},
   "source": [
    "## Inputs\n",
    "\n",
    "You can use the functions below to generate sample sequences to test your algorithms. "
   ]
  },
  {
   "cell_type": "code",
   "execution_count": 11,
   "id": "close-founder",
   "metadata": {},
   "outputs": [
    {
     "data": {
      "text/plain": [
       "('LGAAWYTGCCFIGNHEIAHRCQEVHIGSRAQHCVTPTHDAHWERY',\n",
       " 'LGMAWVTGCCFIWLGNHEVAHRLFEHIIGDRAQDRVTPTHDAHVEYRP')"
      ]
     },
     "execution_count": 11,
     "metadata": {},
     "output_type": "execute_result"
    }
   ],
   "source": [
    "import random\n",
    "aminoacids = ['A', 'R', 'N', 'D', 'C', 'Q', 'E', 'G', 'H', 'I', 'L', 'K', 'M', 'F', 'P', 'S', 'T', 'W', 'Y', 'V']\n",
    "\n",
    "def generate_sequence(length=50):    \n",
    "    return ''.join([random.choice(aminoacids) for i in range(length)])\n",
    "\n",
    "def mutate_sequence(seq, n_mutations=10):\n",
    "    seq = list(seq)\n",
    "    pos = {random.randint(1, len(seq)): random.choice(['substitute', 'delete']) for i in range(n_mutations)}   \n",
    "    mutated_sequence = ''\n",
    "    for ix, aminoacid in enumerate(seq):\n",
    "        if ix in pos:\n",
    "            if pos[ix] == 'substitute':\n",
    "                mutated_sequence += random.choice(aminoacids)\n",
    "        else:\n",
    "            mutated_sequence += aminoacid             \n",
    "    return mutated_sequence\n",
    "\n",
    "sample_sequence = generate_sequence()\n",
    "sequence1 = mutate_sequence(sample_sequence)\n",
    "sequence2 = mutate_sequence(sample_sequence)\n",
    "sequence1, sequence2"
   ]
  },
  {
   "cell_type": "markdown",
   "id": "injured-worthy",
   "metadata": {},
   "source": [
    "#### Sample 1"
   ]
  },
  {
   "cell_type": "code",
   "execution_count": 17,
   "id": "wound-minimum",
   "metadata": {},
   "outputs": [],
   "source": [
    "sample1_sequence1 = 'TACGGGTAT'\n",
    "sample1_sequence2 = 'GGACGTACG'"
   ]
  },
  {
   "cell_type": "code",
   "execution_count": 1,
   "id": "western-simple",
   "metadata": {},
   "outputs": [
    {
     "name": "stdout",
     "output_type": "stream",
     "text": [
      "Defaulting to user installation because normal site-packages is not writeable\n",
      "Requirement already satisfied: bio in /Users/veyisT/Library/Python/3.8/lib/python/site-packages (1.3.8)\n",
      "Requirement already satisfied: biopython>=1.79 in /Users/veyisT/Library/Python/3.8/lib/python/site-packages (from bio) (1.79)\n",
      "Requirement already satisfied: tqdm in /Users/veyisT/Library/Python/3.8/lib/python/site-packages (from bio) (4.64.0)\n",
      "Requirement already satisfied: requests in /Users/veyisT/Library/Python/3.8/lib/python/site-packages (from bio) (2.27.1)\n",
      "Requirement already satisfied: mygene in /Users/veyisT/Library/Python/3.8/lib/python/site-packages (from bio) (3.2.2)\n",
      "Requirement already satisfied: numpy in /Users/veyisT/Library/Python/3.8/lib/python/site-packages (from biopython>=1.79->bio) (1.22.3)\n",
      "Requirement already satisfied: biothings-client>=0.2.6 in /Users/veyisT/Library/Python/3.8/lib/python/site-packages (from mygene->bio) (0.2.6)\n",
      "Requirement already satisfied: idna<4,>=2.5 in /Users/veyisT/Library/Python/3.8/lib/python/site-packages (from requests->bio) (3.3)\n",
      "Requirement already satisfied: urllib3<1.27,>=1.21.1 in /Users/veyisT/Library/Python/3.8/lib/python/site-packages (from requests->bio) (1.26.9)\n",
      "Requirement already satisfied: charset-normalizer~=2.0.0 in /Users/veyisT/Library/Python/3.8/lib/python/site-packages (from requests->bio) (2.0.12)\n",
      "Requirement already satisfied: certifi>=2017.4.17 in /Users/veyisT/Library/Python/3.8/lib/python/site-packages (from requests->bio) (2021.10.8)\n"
     ]
    }
   ],
   "source": [
    "!pip3 install bio\n",
    "from Bio.Align import substitution_matrices\n",
    "from Bio import Align \n",
    "def align_sequences_biopython(seq1, seq2, algorithm, penalty_params):\n",
    "    aligner = Align.PairwiseAligner()\n",
    "    aligner.substitution_matrix = substitution_matrices.load(\"BLOSUM62\")\n",
    "    if penalty_params['penalty_type'] == 'linear':\n",
    "        aligner.open_gap_score = penalty_params['gap_opening_penalty'] \n",
    "        aligner.extend_gap_score = penalty_params['gap_opening_penalty'] \n",
    "    else:\n",
    "        aligner.open_gap_score = penalty_params['gap_opening_penalty'] # -11\n",
    "        aligner.extend_gap_score = penalty_params['gap_extension_penalty'] # -1\n",
    "    aligner.mode = algorithm\n",
    "    for alignment in aligner.align(seq1, seq2):\n",
    "        print('Score:', alignment.score)\n",
    "        print(alignment)\n"
   ]
  },
  {
   "cell_type": "code",
   "execution_count": 14,
   "id": "conventional-witness",
   "metadata": {},
   "outputs": [
    {
     "name": "stdout",
     "output_type": "stream",
     "text": [
      "Score: 14.0\n",
      "AATVC--GSATK-YA\n",
      "    |--|---.-.\n",
      "    CTWG---RCF\n",
      "\n"
     ]
    }
   ],
   "source": [
    "align_sequences_biopython(sample1_sequence1, sample1_sequence2, 'local', {'penalty_type': 'linear', 'gap_opening_penalty': -1})"
   ]
  },
  {
   "cell_type": "code",
   "execution_count": 15,
   "id": "respective-youth",
   "metadata": {},
   "outputs": [
    {
     "name": "stdout",
     "output_type": "stream",
     "text": [
      "Score: 9.0\n",
      "AATVCGSATKYA\n",
      "    |\n",
      "    CTWGRCF\n",
      "\n",
      "Score: 9.0\n",
      " AATVCGSATKYA\n",
      "     |\n",
      "CTWGRCF\n",
      "\n"
     ]
    }
   ],
   "source": [
    "align_sequences_biopython(sample1_sequence1, sample1_sequence2, 'local', {'penalty_type': 'affine', 'gap_opening_penalty': -5, 'gap_extension_penalty': -2})"
   ]
  },
  {
   "cell_type": "code",
   "execution_count": 16,
   "id": "ahead-durham",
   "metadata": {},
   "outputs": [
    {
     "name": "stdout",
     "output_type": "stream",
     "text": [
      "Score: 9.0\n",
      "AATVC--GSATK-YA\n",
      "----|--|---.-.-\n",
      "----CTWG---RCF-\n",
      "\n"
     ]
    }
   ],
   "source": [
    "align_sequences_biopython(sample1_sequence1, sample1_sequence2, 'global', {'penalty_type': 'linear', 'gap_opening_penalty': -1})"
   ]
  },
  {
   "cell_type": "code",
   "execution_count": 17,
   "id": "broadband-pixel",
   "metadata": {},
   "outputs": [
    {
     "name": "stdout",
     "output_type": "stream",
     "text": [
      "Score: -21.0\n",
      "AATVCGSATKYA\n",
      ".-----......\n",
      "C-----TWGRCF\n",
      "\n",
      "Score: -21.0\n",
      "AATVCGSATKYA\n",
      "...-----....\n",
      "CTW-----GRCF\n",
      "\n"
     ]
    }
   ],
   "source": [
    "align_sequences_biopython(sample1_sequence1, sample1_sequence2, 'global', {'penalty_type': 'affine', 'gap_opening_penalty': -11, 'gap_extension_penalty': -1})"
   ]
  },
  {
   "cell_type": "markdown",
   "id": "computational-seeker",
   "metadata": {},
   "source": [
    "#### Sample 2"
   ]
  },
  {
   "cell_type": "code",
   "execution_count": 18,
   "id": "worthy-diploma",
   "metadata": {},
   "outputs": [],
   "source": [
    "sample2_sequence1 = 'PRTEINS'\n",
    "sample2_sequence2 = 'PRTWPSEIN'"
   ]
  },
  {
   "cell_type": "code",
   "execution_count": 19,
   "id": "architectural-event",
   "metadata": {},
   "outputs": [
    {
     "name": "stdout",
     "output_type": "stream",
     "text": [
      "Score: 29.0\n",
      "PRT---EINS\n",
      "|||---|||\n",
      "PRTWPSEIN\n",
      "\n"
     ]
    }
   ],
   "source": [
    "align_sequences_biopython(sample2_sequence1, sample2_sequence2, 'local', {'penalty_type': 'linear', 'gap_opening_penalty': -1})"
   ]
  },
  {
   "cell_type": "markdown",
   "id": "rough-sensitivity",
   "metadata": {},
   "source": [
    "#### Sample 3"
   ]
  },
  {
   "cell_type": "code",
   "execution_count": 20,
   "id": "catholic-danish",
   "metadata": {},
   "outputs": [],
   "source": [
    "sample1_sequence1 = 'WAHYHFDVPDCWAHRYWVENPQAIAQMEQICFWIPAVLSIDHEQMNWFPSMMMKQPHVFKVDHHMSCRWLPIRGKKCSSCCTRMRVRTVWE'\n",
    "sample1_sequence2 = 'YHEDVAHEDAIAQMVNTFGFVWQICLNQFPSMWIPMMKIYWIAVLSAHVADRKTWSKHMSCRWLPIISATCARMRVRTVWE'"
   ]
  }
 ],
 "metadata": {
  "interpreter": {
   "hash": "31f2aee4e71d21fbe5cf8b01ff0e069b9275f58929596ceb00d14d90e3e16cd6"
  },
  "kernelspec": {
   "display_name": "Python 3.8.9 64-bit",
   "language": "python",
   "name": "python3"
  },
  "language_info": {
   "codemirror_mode": {
    "name": "ipython",
    "version": 3
   },
   "file_extension": ".py",
   "mimetype": "text/x-python",
   "name": "python",
   "nbconvert_exporter": "python",
   "pygments_lexer": "ipython3",
   "version": "3.8.9"
  }
 },
 "nbformat": 4,
 "nbformat_minor": 5
}
